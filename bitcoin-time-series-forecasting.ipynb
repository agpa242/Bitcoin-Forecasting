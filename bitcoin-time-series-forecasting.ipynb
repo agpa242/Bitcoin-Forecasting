{
  "cells": [
    {
      "metadata": {
        "trusted": true,
        "_uuid": "e9f570203bf9452c02983eeae4259e8534e2ad6a",
        "id": "KW5YPiAIsHbY"
      },
      "cell_type": "code",
      "source": [
        "import numpy as np # linear algebra\n",
        "import pandas as pd # data processing, CSV file I/O (e.g. pd.read_csv)\n",
        "import matplotlib.pyplot as plt\n",
        "\n",
        "# Input data files are available in the \"../input/\" directory.\n",
        "# For example, running this (by clicking run or pressing Shift+Enter) will list the files in the input directory\n",
        "\n",
        "from plotly import tools\n",
        "import plotly.plotly as py\n",
        "from plotly.offline import init_notebook_mode, iplot\n",
        "init_notebook_mode(connected=True)\n",
        "import plotly.graph_objs as go\n",
        "import gc\n",
        "\n",
        "import matplotlib.pyplot as plt\n",
        "import seaborn as sns\n",
        "\n",
        "#import os\n",
        "#print(os.listdir(\"../input\"))\n",
        "\n",
        "from subprocess import check_output\n",
        "print(check_output([\"ls\", \"../input\"]).decode(\"utf8\"))"
      ],
      "execution_count": null,
      "outputs": []
    },
    {
      "metadata": {
        "_uuid": "7670af15964271fc3f19ccd82ffa9f7064b78437",
        "id": "6l93jloCsHba"
      },
      "cell_type": "markdown",
      "source": [
        "**Data Exploration**\n",
        "\n",
        "In this section we just explore the Data i.e the Historic Bitcoin Prices and try to find some insights. We will be using the Coinbase dataset as it is one of the mostly used Bitcoin Exchange/Wallet in the world."
      ]
    },
    {
      "metadata": {
        "trusted": true,
        "_uuid": "500e2038829ebe2d7cc32b60aa9a57e3d7be5bb6",
        "_kg_hide-input": true,
        "id": "Auow1nG3sHba"
      },
      "cell_type": "code",
      "source": [
        "import datetime, pytz\n",
        "#define a conversion function for the native timestamps in the csv file\n",
        "def dateparse (time_in_secs):\n",
        "    return pytz.utc.localize(datetime.datetime.fromtimestamp(float(time_in_secs)))\n",
        "\n",
        "\n",
        "data = pd.read_csv('../input/coinbaseUSD_1-min_data_2014-12-01_to_2018-11-11.csv', parse_dates=[0], date_parser=dateparse)"
      ],
      "execution_count": null,
      "outputs": []
    },
    {
      "metadata": {
        "_uuid": "8f2839f25d086af736a60e9eeb907d3b93b6e0e5",
        "_cell_guid": "b1076dfc-b9ad-4769-8c92-a6c4dae69d19",
        "trusted": true,
        "_kg_hide-input": true,
        "id": "vnDkb-VVsHbb"
      },
      "cell_type": "code",
      "source": [
        "data.info()"
      ],
      "execution_count": null,
      "outputs": []
    },
    {
      "metadata": {
        "_cell_guid": "79c7e3d0-c299-4dcb-8224-4455121ee9b0",
        "_uuid": "d629ff2d2480ee46fbb7e2d37f6b5fab8052498a",
        "trusted": true,
        "_kg_hide-input": true,
        "_kg_hide-output": true,
        "id": "WEfRcut4sHbb"
      },
      "cell_type": "code",
      "source": [
        "data.head()"
      ],
      "execution_count": null,
      "outputs": []
    },
    {
      "metadata": {
        "trusted": true,
        "_uuid": "fbf694e11e5ee2f6c4cca08b900fa46a2916235a",
        "id": "743iUdyisHbb"
      },
      "cell_type": "markdown",
      "source": [
        "Little preprocessing required, replacing the NaN values with zeroes and previous data."
      ]
    },
    {
      "metadata": {
        "trusted": true,
        "_uuid": "043274c53776f8683b9574a75f245c9657b0794e",
        "id": "ffj8PN97sHbc"
      },
      "cell_type": "code",
      "source": [
        "# First thing is to fix the data for bars/candles where there are no trades.\n",
        "# Volume/trades are a single event so fill na's with zeroes for relevant fields...\n",
        "data['Volume_(BTC)'].fillna(value=0, inplace=True)\n",
        "data['Volume_(Currency)'].fillna(value=0, inplace=True)\n",
        "data['Weighted_Price'].fillna(value=0, inplace=True)\n",
        "\n",
        "# next we need to fix the OHLC (open high low close) data which is a continuous timeseries so\n",
        "# lets fill forwards those values...\n",
        "data['Open'].fillna(method='ffill', inplace=True)\n",
        "data['High'].fillna(method='ffill', inplace=True)\n",
        "data['Low'].fillna(method='ffill', inplace=True)\n",
        "data['Close'].fillna(method='ffill', inplace=True)\n",
        "\n",
        "data.head()"
      ],
      "execution_count": null,
      "outputs": []
    },
    {
      "metadata": {
        "_uuid": "15e8cf8f0599075e8ef943b341554b3f7b1a5a63",
        "id": "tvc1vlqtsHbc"
      },
      "cell_type": "markdown",
      "source": [
        "Creating Weekly Rows for the Data Visualization"
      ]
    },
    {
      "metadata": {
        "trusted": true,
        "_uuid": "efd5479a17ef99b77996f55b4a09f5674f35d956",
        "_kg_hide-input": true,
        "_kg_hide-output": true,
        "id": "bNFSOfoasHbc"
      },
      "cell_type": "code",
      "source": [
        "# create valid date range\n",
        "start = datetime.datetime(2015, 1, 1, 0, 0, 0, 0, pytz.UTC)\n",
        "end = datetime.datetime(2018, 11, 11, 0, 0, 0, 0, pytz.UTC)\n",
        "\n",
        "# find rows between start and end time and find the first row (00:00 monday morning)\n",
        "weekly_rows = data[(data['Timestamp'] >= start) & (data['Timestamp'] <= end)].groupby([pd.Grouper(key='Timestamp', freq='W-MON')]).first().reset_index()\n",
        "weekly_rows.head()"
      ],
      "execution_count": null,
      "outputs": []
    },
    {
      "metadata": {
        "_uuid": "09320d0b0e8127bcf153fefc2b5b05acb34d1567",
        "id": "LM1_qbKRsHbc"
      },
      "cell_type": "markdown",
      "source": [
        "Lets visualize Historical Bitcoin Prices (2015-2018)"
      ]
    },
    {
      "metadata": {
        "trusted": true,
        "_uuid": "0bd8dd50c34ef23c100f5050f4bbaa7d88a5effa",
        "_kg_hide-input": true,
        "id": "E_ocjlEcsHbd"
      },
      "cell_type": "code",
      "source": [
        "# We use Plotly to create the plots https://plot.ly/python/\n",
        "trace1 = go.Scatter(\n",
        "    x = weekly_rows['Timestamp'],\n",
        "    y = weekly_rows['Open'].astype(float),\n",
        "    mode = 'lines',\n",
        "    name = 'Open'\n",
        ")\n",
        "\n",
        "trace2 = go.Scatter(\n",
        "    x = weekly_rows['Timestamp'],\n",
        "    y = weekly_rows['Close'].astype(float),\n",
        "    mode = 'lines',\n",
        "    name = 'Close'\n",
        ")\n",
        "trace3 = go.Scatter(\n",
        "    x = weekly_rows['Timestamp'],\n",
        "    y = weekly_rows['Weighted_Price'].astype(float),\n",
        "    mode = 'lines',\n",
        "    name = 'Weighted Avg'\n",
        ")\n",
        "\n",
        "layout = dict(\n",
        "    title='Historical Bitcoin Prices (2015-2018) with the Slider ',\n",
        "    xaxis=dict(\n",
        "        rangeselector=dict(\n",
        "            buttons=list([\n",
        "                #change the count to desired amount of months.\n",
        "                dict(count=1,\n",
        "                     label='1m',\n",
        "                     step='month',\n",
        "                     stepmode='backward'),\n",
        "                dict(count=6,\n",
        "                     label='6m',\n",
        "                     step='month',\n",
        "                     stepmode='backward'),\n",
        "                dict(count=12,\n",
        "                     label='1y',\n",
        "                     step='month',\n",
        "                     stepmode='backward'),\n",
        "                dict(count=36,\n",
        "                     label='3y',\n",
        "                     step='month',\n",
        "                     stepmode='backward'),\n",
        "                dict(step='all')\n",
        "            ])\n",
        "        ),\n",
        "        rangeslider=dict(\n",
        "            visible = True\n",
        "        ),\n",
        "        type='date'\n",
        "    )\n",
        ")\n",
        "\n",
        "data = [trace1,trace2, trace3]\n",
        "fig = dict(data=data, layout=layout)\n",
        "iplot(fig, filename = \"Time Series with Rangeslider\")"
      ],
      "execution_count": null,
      "outputs": []
    },
    {
      "metadata": {
        "_uuid": "9922acdb60c1d1331985b90b15160d762f41bda6",
        "id": "oYgQYp2RsHbd"
      },
      "cell_type": "markdown",
      "source": [
        "Lets visualize Historical Bitcoin Market Volume (2015-2018)"
      ]
    },
    {
      "metadata": {
        "trusted": true,
        "_uuid": "237ccce68abadfd02cb630f8c78ef6449945491a",
        "_kg_hide-input": true,
        "id": "PKJ2B4ipsHbe"
      },
      "cell_type": "code",
      "source": [
        "trace1 = go.Scatter(\n",
        "    x = weekly_rows['Timestamp'],\n",
        "    y = weekly_rows['Volume_(Currency)'].astype(float),\n",
        "    mode = 'lines',\n",
        "    name = 'Bitcoin Price (Open)'\n",
        ")\n",
        "\n",
        "layout = dict(\n",
        "    title='Historical Bitcoin Volume (USD) (2015-2018) with the slider',\n",
        "    xaxis=dict(\n",
        "        rangeselector=dict(\n",
        "            buttons=list([\n",
        "                dict(count=1,\n",
        "                     label='1m',\n",
        "                     step='month',\n",
        "                     stepmode='backward'),\n",
        "                dict(count=6,\n",
        "                     label='6m',\n",
        "                     step='month',\n",
        "                     stepmode='backward'),\n",
        "                dict(count=12,\n",
        "                     label='1y',\n",
        "                     step='month',\n",
        "                     stepmode='backward'),\n",
        "                dict(count=36,\n",
        "                     label='3y',\n",
        "                     step='month',\n",
        "                     stepmode='backward'),\n",
        "                dict(step='all')\n",
        "            ])\n",
        "        ),\n",
        "        rangeslider=dict(\n",
        "            visible = True\n",
        "        ),\n",
        "        type='date'\n",
        "    )\n",
        ")\n",
        "\n",
        "data = [trace1]\n",
        "fig = dict(data=data, layout=layout)\n",
        "iplot(fig, filename = \"Time Series with Rangeslider\")"
      ],
      "execution_count": null,
      "outputs": []
    },
    {
      "metadata": {
        "trusted": true,
        "_uuid": "087532f966c3d0618cc2d00bae872a71c6959759",
        "_kg_hide-input": true,
        "id": "wf0EeiqJsHbe"
      },
      "cell_type": "code",
      "source": [
        "#BTC Volume vs USD visualization\n",
        "trace = go.Scattergl(\n",
        "    y = weekly_rows['Volume_(BTC)'].astype(float),\n",
        "    x = weekly_rows['Weighted_Price'].astype(float),\n",
        "    mode = 'markers',\n",
        "    marker = dict(\n",
        "        color = '#FFBAD2',\n",
        "        line = dict(width = 1)\n",
        "    )\n",
        ")\n",
        "layout = go.Layout(\n",
        "    title='BTC Volume v/s USD',\n",
        "    xaxis=dict(\n",
        "        title='Weighted Price',\n",
        "        titlefont=dict(\n",
        "            family='Courier New, monospace',\n",
        "            size=18,\n",
        "            color='#7f7f7f'\n",
        "        )\n",
        "    ),\n",
        "    yaxis=dict(\n",
        "        title='Volume BTC',\n",
        "        titlefont=dict(\n",
        "            family='Courier New, monospace',\n",
        "            size=18,\n",
        "            color='#7f7f7f'\n",
        "        )))\n",
        "data = [trace]\n",
        "fig = go.Figure(data=data, layout=layout)\n",
        "iplot(fig, filename='compare_webgl')"
      ],
      "execution_count": null,
      "outputs": []
    },
    {
      "metadata": {
        "_uuid": "e6f91c40961f42f3488d1c69af27e46ab3e4306c",
        "id": "CdIXuck3sHbe"
      },
      "cell_type": "markdown",
      "source": [
        "**History of Bitcoin Prices**\n",
        "\n",
        "*  18 August 2008, the domain name bitcoin.org was registered.\n",
        "*  November 6th 2010, Bitcoin share capital reaches 1 million USD. Its exchange rate on MtGox reaches USD 0.50 per BTC.\n",
        "*  June 2nd 2011, USD to BTC rate is 10 USD to the coin. For 6 days, the Bitcoin value is fixed at 31.91 USD on MtGox.\n",
        "*  February 28th 2013, Bitcoin exchange rate surpasses 31.91 USD for the first time for the last 601 days.\n",
        "*  April 1st,2013 Exchange rate of Bitcoin reaches 100 USD to 1 BTC.\n",
        "*  January,2015 Coinbase raised 75 million USD as part of a Series C funding round, smashing the previous record for a bitcoin company.\n",
        "*  February ,2015 Bitcoin price reached USD 262.\n",
        "*  January 2017,After the rally for most of the second half of 2016, bitcoin broke the USD 1,000 mark for the first time in 3 years.\n",
        "*  June 12th 2017, Bitcoin exchange rate exceeds USD 3000 to the BTC.\n",
        "*  November 29th 2017, Bitcoin price exceeds USD 10,000.\n",
        "*  December 18th 2017, Bitcoin reaches a record high, but does not reach USD 20,000.\n",
        "*  December 28th 2017, The price of bitcoins fell after South Korea announced additional measures to regulate bitcoin trading, including the potential closure of exchanges, among the volatile movements in the world's third largest cryptocurrency market.\n",
        "* October 31st 2018, USD 6,300, on the 10 year anniversary of Bitcoin, price holds steady above USD 6,000 during a period of historically low volatility.\n",
        "\n",
        "![](https://en.bitcoinwiki.org/upload/en/images/c/cf/Bitcoin_history_price.jpg)"
      ]
    },
    {
      "metadata": {
        "_uuid": "5847a3e48cd3e7e46b213b9f72a2c61ec013890a",
        "id": "KXoTKRvCsHbf"
      },
      "cell_type": "markdown",
      "source": [
        "**Time Series Forecasting**\n",
        "\n",
        "Time Series data is an experimental data which has been observed at different points in time (usually evenly spaced, like once a day or once an hour or once a minute). For example, the data of airline ticket sales per day is a time series. However, just because a series of events has a time element does not automatically make it a time series, such as the dates of major airline disasters, which are randomly spaced and are not time series. These types of random processes are known as point process.\n",
        "\n",
        "Time Series have several key features such as trend, seasonality, and noise.Forecasting is the process of making predictions of the future, based on past and present data.\n",
        "\n",
        "Here in this kernel, we attempt to perform Time Series Analysis on the Historic Bitcoin Price data. We can easily see from the **Data Exploration** section, that the Bitcoin prices were quite volatile and inconsistent over the years.  Its very hard to perform Time series analysis on such volatile data. But here we try to explore the different Time series forecasting models. All the models used in this Kernel are very basic, there is scope of more complex and better performing models.  \n",
        "\n",
        "*  Time Series forecasting with LSTM\n",
        "* Time Series forecasting with XGBoost\n",
        "* Time Series forecasting with Facebook Prophet\n",
        "* Time Series forecasting with ARIMA\n",
        "\n"
      ]
    },
    {
      "metadata": {
        "_uuid": "76b4cffa9f19ac762eccceb3c8761741566ac49e",
        "id": "YsEGy82tsHbf"
      },
      "cell_type": "markdown",
      "source": [
        "**Predicting using LSTM**\n",
        "\n",
        "In the first section, we use LSTM  (Long short-term memory ). LSTM units are units of a recurrent neural network (RNN). An RNN composed of LSTM units is often called an LSTM network (or just LSTM). A common LSTM unit is composed of a cell, an input gate, an output gate and a forget gate. The cell remembers values over arbitrary time intervals and the three gates regulate the flow of information into and out of the cell. Read more about LSTMs [here.](https://towardsdatascience.com/illustrated-guide-to-lstms-and-gru-s-a-step-by-step-explanation-44e9eb85bf21)\n",
        "\n",
        "Though LSTM is not ideal for forecasting turbulent market like Bitcoin but we still take a chance here."
      ]
    },
    {
      "metadata": {
        "trusted": true,
        "_uuid": "231b4d4d7d14edd27dd7b626ebd3b1ec122278db",
        "_kg_hide-input": true,
        "id": "NdqvinJBsHbf"
      },
      "cell_type": "code",
      "source": [
        "#load the dataset\n",
        "data = pd.read_csv('../input/coinbaseUSD_1-min_data_2014-12-01_to_2018-11-11.csv',parse_dates=[0], date_parser=dateparse)\n",
        "data['Timestamp'] = data['Timestamp'].dt.tz_localize(None)\n",
        "data = data.groupby([pd.Grouper(key='Timestamp', freq='H')]).first().reset_index()\n",
        "data = data.set_index('Timestamp')\n",
        "data = data[['Weighted_Price']]\n",
        "data['Weighted_Price'].fillna(method='ffill', inplace=True)\n"
      ],
      "execution_count": null,
      "outputs": []
    },
    {
      "metadata": {
        "_uuid": "62600171488836bed91ad9b6993e35641df9b58d",
        "id": "ZqCbzPBIsHbg"
      },
      "cell_type": "markdown",
      "source": [
        "For the train and test, we take '25-Jun-2018' as the split date.  There was a considerable dip in Bitcoin prices between the June-July period 2018.  If we check the historical prices the seasonal market started going up from this date after reaching the lowest, though the price reached much lower $5972 on June 29th 2018. After reaching the historic 20K mark on December 18th, there were several dips and market price was recorrected every time. Read more about [Bitcoin dips.](http://https://news.bitcoin.com/data-reveals-reasons-behind-bitcoins-big-dip/)"
      ]
    },
    {
      "metadata": {
        "trusted": true,
        "_uuid": "bc3761b00d1e09cf0fb07d9fbd65248e890b72e7",
        "scrolled": false,
        "id": "-LmSFsgxsHbg"
      },
      "cell_type": "code",
      "source": [
        "# split data\n",
        "split_date = '25-Jun-2018'\n",
        "data_train = data.loc[data.index <= split_date].copy()\n",
        "data_test = data.loc[data.index > split_date].copy()\n"
      ],
      "execution_count": null,
      "outputs": []
    },
    {
      "metadata": {
        "trusted": true,
        "_uuid": "0e716cd07da40a42b4f6fe80b27ab6efa3e4ac4d",
        "id": "1ZoMo0SzsHbg"
      },
      "cell_type": "code",
      "source": [
        "# Data preprocess\n",
        "training_set = data_train.values\n",
        "training_set = np.reshape(training_set, (len(training_set), 1))\n",
        "from sklearn.preprocessing import MinMaxScaler\n",
        "sc = MinMaxScaler()\n",
        "training_set = sc.fit_transform(training_set)\n",
        "X_train = training_set[0:len(training_set)-1]\n",
        "y_train = training_set[1:len(training_set)]\n",
        "X_train = np.reshape(X_train, (len(X_train), 1, 1))\n"
      ],
      "execution_count": null,
      "outputs": []
    },
    {
      "metadata": {
        "trusted": true,
        "_uuid": "0bf46a2b01901269fc8d6713cd77d896757877f8",
        "_kg_hide-input": true,
        "id": "liZS2HQDsHbg"
      },
      "cell_type": "code",
      "source": [
        "color_pal = [\"#F8766D\", \"#D39200\", \"#93AA00\", \"#00BA38\", \"#00C19F\", \"#00B9E3\", \"#619CFF\", \"#DB72FB\"]\n",
        "_ = data.plot(style='', figsize=(15,5), color=color_pal[0], title='BTC Weighted_Price Price (USD) by Hours')"
      ],
      "execution_count": null,
      "outputs": []
    },
    {
      "metadata": {
        "trusted": true,
        "_uuid": "fc8627e6d076c15d61daf0c27476311b3b80110e",
        "_kg_hide-input": true,
        "id": "1RZSMT6nsHbh"
      },
      "cell_type": "code",
      "source": [
        "_ = data_test \\\n",
        "    .rename(columns={'Weighted_Price': 'Test Set'}) \\\n",
        "    .join(data_train.rename(columns={'Weighted_Price': 'Training Set'}), how='outer') \\\n",
        "    .plot(figsize=(15,5), title='BTC Weighted_Price Price (USD) by Hours', style='')"
      ],
      "execution_count": null,
      "outputs": []
    },
    {
      "metadata": {
        "_uuid": "5aa2b8440625acb992407033180cd6b662b021e5",
        "id": "nG0d-a-ksHbh"
      },
      "cell_type": "markdown",
      "source": [
        "We will use a Vanilla LSTM here for forecasting. The model is trained on pre 25-Jun-2018 data."
      ]
    },
    {
      "metadata": {
        "trusted": true,
        "_uuid": "147fc32e2f810a4b0202ab888ddc620db091e74b",
        "scrolled": false,
        "_kg_hide-output": true,
        "_kg_hide-input": false,
        "id": "7O_AyOV9sHbh"
      },
      "cell_type": "code",
      "source": [
        "# Importing the Keras libraries and packages\n",
        "from keras.models import Sequential\n",
        "from keras.layers import Dense\n",
        "from keras.layers import LSTM\n",
        "from keras.layers import Dropout\n",
        "from keras.layers import Activation\n",
        "\n",
        "\n",
        "model = Sequential()\n",
        "model.add(LSTM(128,activation=\"sigmoid\",input_shape=(1,1)))\n",
        "model.add(Dropout(0.2))\n",
        "model.add(Dense(1))\n",
        "model.compile(loss='mean_squared_error', optimizer='adam')\n",
        "model.fit(X_train, y_train, epochs=100, batch_size=50, verbose=2)"
      ],
      "execution_count": null,
      "outputs": []
    },
    {
      "metadata": {
        "trusted": true,
        "_uuid": "a36a731741ef4705a04e7ceeb0be327e62dd20e1",
        "id": "cuh8XLJzsHbh"
      },
      "cell_type": "code",
      "source": [
        "model.summary()"
      ],
      "execution_count": null,
      "outputs": []
    },
    {
      "metadata": {
        "trusted": true,
        "_uuid": "c35d7975f1097bf84cbc330abfcb4b2626d8057c",
        "scrolled": true,
        "_kg_hide-input": true,
        "id": "PKK-grVbsHbh"
      },
      "cell_type": "code",
      "source": [
        "# Making the predictions\n",
        "test_set = data_test.values\n",
        "inputs = np.reshape(test_set, (len(test_set), 1))\n",
        "inputs = sc.transform(inputs)\n",
        "inputs = np.reshape(inputs, (len(inputs), 1, 1))\n",
        "predicted_BTC_price = model.predict(inputs)\n",
        "predicted_BTC_price = sc.inverse_transform(predicted_BTC_price)"
      ],
      "execution_count": null,
      "outputs": []
    },
    {
      "metadata": {
        "trusted": true,
        "_uuid": "b773f381d73ec24eab8e4bb0a03569bed59cd31c",
        "id": "rBSG1bZ9sHbi"
      },
      "cell_type": "code",
      "source": [
        "data_test['Weighted_Price_Prediction'] = predicted_BTC_price\n",
        "data_all = pd.concat([data_test, data_train], sort=False)"
      ],
      "execution_count": null,
      "outputs": []
    },
    {
      "metadata": {
        "trusted": true,
        "_uuid": "abecfb9067f6fc2b37d2f8d1e5d79cfffbed0822",
        "_kg_hide-input": true,
        "id": "el77ivObsHbi"
      },
      "cell_type": "code",
      "source": [
        "#saving the predicted values in a common data frame for future comparision\n",
        "final_data = data_all\n",
        "final_data = final_data.reset_index()\n",
        "final_data = final_data.rename(columns={'Weighted_Price_Prediction': 'lstm'})\n",
        "final_data = final_data[['Timestamp','Weighted_Price','lstm']]"
      ],
      "execution_count": null,
      "outputs": []
    },
    {
      "metadata": {
        "trusted": true,
        "_uuid": "be2d523206b8f0afe965c033de530fe68b39a0e7",
        "id": "DnP-dbcLsHbi"
      },
      "cell_type": "code",
      "source": [
        "_ = data_all[['Weighted_Price','Weighted_Price_Prediction']].plot(figsize=(15, 5))"
      ],
      "execution_count": null,
      "outputs": []
    },
    {
      "metadata": {
        "trusted": true,
        "_uuid": "93caf2de5c824caf06bb9a8a0ed97d6a922e8d4c",
        "id": "SvceoT6VsHbj"
      },
      "cell_type": "code",
      "source": [
        "# Plot the forecast with the actuals\n",
        "f, ax = plt.subplots(1)\n",
        "f.set_figheight(5)\n",
        "f.set_figwidth(15)\n",
        "_ = data_all[['Weighted_Price_Prediction','Weighted_Price']].plot(ax=ax,\n",
        "                                              style=['-','.'])\n",
        "ax.set_xbound(lower='08-01-2018', upper='09-01-2018')\n",
        "ax.set_ylim(0, 10000)\n",
        "plot = plt.suptitle('August 2018 Forecast vs Actuals')"
      ],
      "execution_count": null,
      "outputs": []
    },
    {
      "metadata": {
        "trusted": true,
        "_uuid": "dbcb45dff187ac1aee2fc491fc8f77fd9de68a6c",
        "scrolled": true,
        "id": "16ajwuNAsHbk"
      },
      "cell_type": "code",
      "source": [
        "# Plot the forecast with the actuals\n",
        "f, ax = plt.subplots(1)\n",
        "f.set_figheight(5)\n",
        "f.set_figwidth(15)\n",
        "_ = data_all[['Weighted_Price_Prediction','Weighted_Price']].plot(ax=ax,\n",
        "                                              style=['-','.'])\n",
        "ax.set_xbound(lower='08-01-2018', upper='08-08-2018')\n",
        "ax.set_ylim(0, 10000)\n",
        "plot = plt.suptitle('First Week of August 2018 Forecast vs Actuals')"
      ],
      "execution_count": null,
      "outputs": []
    },
    {
      "metadata": {
        "trusted": true,
        "_uuid": "1e6635c7e4632b4dd2c877dfbb7d31e4368bdaa2",
        "id": "sicrzGInsHbk"
      },
      "cell_type": "markdown",
      "source": [
        "The MSE is 2917.40 and MAE is 53.84"
      ]
    },
    {
      "metadata": {
        "trusted": true,
        "_uuid": "4837bb9ace022dee144fa82b873b3166ed031c8c",
        "id": "tekUdlU2sHbl"
      },
      "cell_type": "code",
      "source": [
        "#calculate MSE and MAE\n",
        "from sklearn.metrics import mean_squared_error, mean_absolute_error\n",
        "mean_squared_error(y_true=data_test['Weighted_Price'],\n",
        "                   y_pred=data_test['Weighted_Price_Prediction'])"
      ],
      "execution_count": null,
      "outputs": []
    },
    {
      "metadata": {
        "trusted": true,
        "_uuid": "bd814a48fed324b9774fa4c686b09c08cace7c03",
        "id": "vPHDRAZ2sHbm"
      },
      "cell_type": "code",
      "source": [
        "mean_absolute_error(y_true=data_test['Weighted_Price'],\n",
        "                   y_pred=data_test['Weighted_Price_Prediction'])"
      ],
      "execution_count": null,
      "outputs": []
    },
    {
      "metadata": {
        "_uuid": "b4856c7bcac6216c34b12615321d096695104783",
        "id": "MtO_5-m7sHbm"
      },
      "cell_type": "markdown",
      "source": [
        "We can clearly see the entire model is over-fitted."
      ]
    },
    {
      "metadata": {
        "_uuid": "52a4808619a4300d3e15defe07997466430143d0",
        "id": "e3IW3jtVsHbm"
      },
      "cell_type": "markdown",
      "source": [
        "**Time Series forecasting with XGBoost**\n",
        "\n",
        "XGBoost is an implementation of gradient boosted decision trees designed for speed and performance. XGBoost is a powerful and versatile tool. Lets see, How well does XGBoost perform when used to predict future values of a time-series like Bitcoin prices ?\n",
        "\n",
        "Read more about [XGBoost here.](https://machinelearningmastery.com/gentle-introduction-xgboost-applied-machine-learning/)"
      ]
    },
    {
      "metadata": {
        "trusted": true,
        "_uuid": "1edcd8b51cd72dcbf95f8a73aa8b3c5ef6a233e0",
        "id": "Uz8OInIHsHbn"
      },
      "cell_type": "code",
      "source": [
        "import seaborn as sns\n",
        "import matplotlib.pyplot as plt\n",
        "from fbprophet import Prophet\n",
        "from sklearn.metrics import mean_squared_error, mean_absolute_error\n",
        "plt.style.use('fivethirtyeight')"
      ],
      "execution_count": null,
      "outputs": []
    },
    {
      "metadata": {
        "trusted": true,
        "_uuid": "f75f0418e3953ecab7b103b862a386dd9671340b",
        "id": "YOvbou9esHbn"
      },
      "cell_type": "code",
      "source": [
        "data = pd.read_csv('../input/coinbaseUSD_1-min_data_2014-12-01_to_2018-11-11.csv',parse_dates=[0], date_parser=dateparse)\n",
        "data['Timestamp'] = data['Timestamp'].dt.tz_localize(None)\n",
        "data = data.groupby([pd.Grouper(key='Timestamp', freq='H')]).first().reset_index()\n",
        "data = data.set_index('Timestamp')\n",
        "data = data[['Weighted_Price']]\n",
        "data['Weighted_Price'].fillna(method='ffill', inplace=True)"
      ],
      "execution_count": null,
      "outputs": []
    },
    {
      "metadata": {
        "trusted": true,
        "_uuid": "8a57b70ae60f905e3221abd91028b9cf7d1c5639",
        "id": "dMTDKSR8sHbo"
      },
      "cell_type": "code",
      "source": [
        "color_pal = [\"#F8766D\", \"#D39200\", \"#93AA00\", \"#00BA38\", \"#00C19F\", \"#00B9E3\", \"#619CFF\", \"#DB72FB\"]\n",
        "_ = data.plot(style='', figsize=(15,5), color=color_pal[0], title='BTC Weighted_Price Price (USD) by Hours')"
      ],
      "execution_count": null,
      "outputs": []
    },
    {
      "metadata": {
        "trusted": true,
        "_uuid": "2a980ff6a5f50a96b8e7fa6ef5bdf5295d1e427d",
        "id": "jpYVLAzGsHbq"
      },
      "cell_type": "code",
      "source": [
        "split_date = '25-Jun-2018'\n",
        "data_train = data.loc[data.index <= split_date].copy()\n",
        "data_test = data.loc[data.index > split_date].copy()"
      ],
      "execution_count": null,
      "outputs": []
    },
    {
      "metadata": {
        "trusted": true,
        "_uuid": "a8b6635d3d4e4a62c79e0f6f641d133a9c796e7c",
        "id": "rur3lyxksHbq"
      },
      "cell_type": "code",
      "source": [
        "_ = data_test \\\n",
        "    .rename(columns={'Weighted_Price': 'Test Set'}) \\\n",
        "    .join(data_train.rename(columns={'Weighted_Price': 'Training Set'}), how='outer') \\\n",
        "    .plot(figsize=(15,5), title='BTC Weighted_Price Price (USD) by Hours', style='')"
      ],
      "execution_count": null,
      "outputs": []
    },
    {
      "metadata": {
        "trusted": true,
        "_uuid": "0658d972f6c28a7c30c8b6214b1fcd1813a548aa",
        "id": "4MU-6zKxsHbr"
      },
      "cell_type": "code",
      "source": [
        "def create_features(df, label=None):\n",
        "    \"\"\"\n",
        "    Creates time series features from datetime index\n",
        "    \"\"\"\n",
        "    df['date'] = df.index\n",
        "    df['hour'] = df['date'].dt.hour\n",
        "    df['dayofweek'] = df['date'].dt.dayofweek\n",
        "    df['quarter'] = df['date'].dt.quarter\n",
        "    df['month'] = df['date'].dt.month\n",
        "    df['year'] = df['date'].dt.year\n",
        "    df['dayofyear'] = df['date'].dt.dayofyear\n",
        "    df['dayofmonth'] = df['date'].dt.day\n",
        "    df['weekofyear'] = df['date'].dt.weekofyear\n",
        "\n",
        "    X = df[['hour','dayofweek','quarter','month','year',\n",
        "           'dayofyear','dayofmonth','weekofyear']]\n",
        "    if label:\n",
        "        y = df[label]\n",
        "        return X, y\n",
        "    return X"
      ],
      "execution_count": null,
      "outputs": []
    },
    {
      "metadata": {
        "trusted": true,
        "_uuid": "02e290ff66262e56cea26d468ebee70f51d46c7d",
        "id": "nT9SS5SUsHbr"
      },
      "cell_type": "code",
      "source": [
        "X_train, y_train = create_features(data_train, label='Weighted_Price')\n",
        "X_test, y_test = create_features(data_test, label='Weighted_Price')"
      ],
      "execution_count": null,
      "outputs": []
    },
    {
      "metadata": {
        "_uuid": "8ac5ccb12aa2b94acd8f8e9410f906435cc8bd29",
        "id": "WHBcm5FosHbs"
      },
      "cell_type": "markdown",
      "source": [
        "Here we use a basic XGBRegressor model,"
      ]
    },
    {
      "metadata": {
        "trusted": true,
        "_uuid": "d23cd9db3cf1d6fa04096bc860e2ade1b29ac5ee",
        "id": "qQSuSEhqsHbs"
      },
      "cell_type": "code",
      "source": [
        "import xgboost as xgb\n",
        "from xgboost import plot_importance, plot_tree\n",
        "model =  xgb.XGBRegressor(objective ='reg:linear',min_child_weight=10, booster='gbtree', colsample_bytree = 0.3, learning_rate = 0.1,\n",
        "                max_depth = 5, alpha = 10, n_estimators = 100)\n",
        "model.fit(X_train, y_train,\n",
        "        eval_set=[(X_train, y_train), (X_test, y_test)],\n",
        "        early_stopping_rounds=50,\n",
        "       verbose=False) # Change verbose to True if you want to see it train"
      ],
      "execution_count": null,
      "outputs": []
    },
    {
      "metadata": {
        "trusted": true,
        "_uuid": "746e75f049b17c6f7966ed9dd732005100e759da",
        "id": "xnO7n06RsHbs"
      },
      "cell_type": "code",
      "source": [
        "data_test['Weighted_Price_Prediction'] = model.predict(X_test)\n",
        "data_all = pd.concat([data_test, data_train], sort=False)"
      ],
      "execution_count": null,
      "outputs": []
    },
    {
      "metadata": {
        "trusted": true,
        "_uuid": "11ff7d37c3c835169f55c50b8b74ea41d1e3437b",
        "_kg_hide-input": true,
        "id": "zGMYO2d2sHbt"
      },
      "cell_type": "code",
      "source": [
        "#adding to final data for comparision\n",
        "final_data = pd.merge(final_data, data_all, sort=False)\n",
        "final_data = final_data.rename(columns={'Weighted_Price_Prediction': 'xgboost'})\n",
        "final_data = final_data[['Timestamp','Weighted_Price','lstm','xgboost']]"
      ],
      "execution_count": null,
      "outputs": []
    },
    {
      "metadata": {
        "trusted": true,
        "_uuid": "9c6bf59b53d84111f6b68fe3e8d43fc6472fc113",
        "id": "8uRJAVBAsHbt"
      },
      "cell_type": "code",
      "source": [
        "_ = data_all[['Weighted_Price','Weighted_Price_Prediction']].plot(figsize=(15, 5))"
      ],
      "execution_count": null,
      "outputs": []
    },
    {
      "metadata": {
        "trusted": true,
        "_uuid": "1fb3c8725d398ffefec88be6b8167b9c37d12c1b",
        "id": "URsMXN8hsHbt"
      },
      "cell_type": "code",
      "source": [
        "# Plot the forecast with the actuals\n",
        "f, ax = plt.subplots(1)\n",
        "f.set_figheight(5)\n",
        "f.set_figwidth(15)\n",
        "_ = data_all[['Weighted_Price_Prediction','Weighted_Price']].plot(ax=ax,\n",
        "                                              style=['-','.'])\n",
        "ax.set_xbound(lower='08-01-2018', upper='09-01-2018')\n",
        "ax.set_ylim(0, 10000)\n",
        "plot = plt.suptitle('August 2018 Forecast vs Actuals')"
      ],
      "execution_count": null,
      "outputs": []
    },
    {
      "metadata": {
        "trusted": true,
        "_uuid": "b5be0d03c5a7d9c0ffc38ab060197e30ecfe1bc1",
        "id": "7OFQ1MyksHbu"
      },
      "cell_type": "code",
      "source": [
        "# Plot the forecast with the actuals\n",
        "f, ax = plt.subplots(1)\n",
        "f.set_figheight(5)\n",
        "f.set_figwidth(15)\n",
        "_ = data_all[['Weighted_Price_Prediction','Weighted_Price']].plot(ax=ax,\n",
        "                                              style=['-','.'])\n",
        "ax.set_xbound(lower='08-01-2018', upper='08-08-2018')\n",
        "ax.set_ylim(0, 10000)\n",
        "plot = plt.suptitle('First Week of August 2018 Forecast vs Actuals')"
      ],
      "execution_count": null,
      "outputs": []
    },
    {
      "metadata": {
        "trusted": true,
        "_uuid": "e1ad5f57a8cd9c5248834bba5fa183d2309ab9a6",
        "id": "32xWMCP7sHbu"
      },
      "cell_type": "markdown",
      "source": [
        "The MSE is 484476.69 and MAE is 474.81"
      ]
    },
    {
      "metadata": {
        "trusted": true,
        "_uuid": "5b25ac90c1ae289e01fd2b4e3eed898ca4094673",
        "id": "NLGcDiIosHbu"
      },
      "cell_type": "code",
      "source": [
        "mean_squared_error(y_true=data_test['Weighted_Price'],\n",
        "                   y_pred=data_test['Weighted_Price_Prediction'])"
      ],
      "execution_count": null,
      "outputs": []
    },
    {
      "metadata": {
        "trusted": true,
        "scrolled": false,
        "_uuid": "c8fe56422c0630fe37a176ea7bddcf14792879cc",
        "id": "dMJSd5dFsHbu"
      },
      "cell_type": "code",
      "source": [
        "mean_absolute_error(y_true=data_test['Weighted_Price'],\n",
        "                   y_pred=data_test['Weighted_Price_Prediction'])"
      ],
      "execution_count": null,
      "outputs": []
    },
    {
      "metadata": {
        "_uuid": "57cc839b389a30d8f9e79a032f39d782d86ecaed",
        "id": "MdIhqEkCsHbu"
      },
      "cell_type": "markdown",
      "source": [
        "**Time Series forecasting with Prophet**\n",
        "\n",
        "Prophet is a procedure for forecasting time series data based on an additive model where non-linear trends are fit with yearly, weekly, and daily seasonality, plus holiday effects. It works best with time series that have strong seasonal effects and several seasons of historical data. Prophet is robust to missing data and shifts in the trend, and typically handles outliers well. Refer [Prophet here.](https://facebook.github.io/prophet/)\n",
        "\n",
        "The Prophet package provides intuitive parameters which are easy to tune. Even someone with minimum expertise in forecasting models can use this to make meaningful predictions for a variety of problems in a business scenario.\n",
        "\n",
        "\n",
        "\n"
      ]
    },
    {
      "metadata": {
        "trusted": true,
        "_uuid": "5e16021ae3fbc07b34a6dbe58c14567fcc2e023f",
        "_kg_hide-input": true,
        "id": "uwoJZF8QsHbv"
      },
      "cell_type": "code",
      "source": [
        "data = pd.read_csv('../input/coinbaseUSD_1-min_data_2014-12-01_to_2018-11-11.csv',parse_dates=[0], date_parser=dateparse)\n",
        "data['Timestamp'] = data['Timestamp'].dt.tz_localize(None)\n",
        "data = data.groupby([pd.Grouper(key='Timestamp', freq='H')]).first().reset_index()\n",
        "data = data.set_index('Timestamp')\n",
        "data = data[['Weighted_Price']]\n",
        "data['Weighted_Price'].fillna(method='ffill', inplace=True)"
      ],
      "execution_count": null,
      "outputs": []
    },
    {
      "metadata": {
        "trusted": true,
        "_uuid": "151194848a247376147e1d42b71d967d86c918ba",
        "id": "TET_5LZnsHbv"
      },
      "cell_type": "code",
      "source": [
        "color_pal = [\"#F8766D\", \"#D39200\", \"#93AA00\", \"#00BA38\", \"#00C19F\", \"#00B9E3\", \"#619CFF\", \"#DB72FB\"]\n",
        "_ = data.plot(style='', figsize=(15,5), color=color_pal[0], title='BTC Weighted_Price Price (USD) by Hours')"
      ],
      "execution_count": null,
      "outputs": []
    },
    {
      "metadata": {
        "trusted": true,
        "_uuid": "3756aca7226873c01a81a0b08069130ecba63004",
        "id": "zgXetuOOsHbv"
      },
      "cell_type": "code",
      "source": [
        "split_date = '25-Jun-2018'\n",
        "data_train = data.loc[data.index <= split_date].copy()\n",
        "data_test = data.loc[data.index > split_date].copy()"
      ],
      "execution_count": null,
      "outputs": []
    },
    {
      "metadata": {
        "trusted": true,
        "_uuid": "e4df47ce5c79fba34d323f45c6200f83df9e9704",
        "_kg_hide-input": true,
        "id": "UICXkKqVsHbv"
      },
      "cell_type": "code",
      "source": [
        "_ = data_test \\\n",
        "    .rename(columns={'Weighted_Price': 'Test Set'}) \\\n",
        "    .join(data_train.rename(columns={'Weighted_Price': 'Training Set'}), how='outer') \\\n",
        "    .plot(figsize=(15,5), title='BTC Weighted_Price Price (USD) by Hours', style='')"
      ],
      "execution_count": null,
      "outputs": []
    },
    {
      "metadata": {
        "trusted": true,
        "_uuid": "75052e1b36bd14d4c4774753bba9c44e666af9d7",
        "id": "by-lDHEKsHbv"
      },
      "cell_type": "code",
      "source": [
        "data_train = data_train.reset_index().rename(columns={'Timestamp':'ds', 'Weighted_Price':'y'})"
      ],
      "execution_count": null,
      "outputs": []
    },
    {
      "metadata": {
        "trusted": true,
        "_uuid": "258f1f6d9b8eda25bf38cd856cdb091e7df4f3ff",
        "id": "xMA2D-5hsHbw"
      },
      "cell_type": "code",
      "source": [
        "# Setup and train model\n",
        "model = Prophet()\n",
        "model.fit(data_train)"
      ],
      "execution_count": null,
      "outputs": []
    },
    {
      "metadata": {
        "trusted": true,
        "_uuid": "2262aa4f54b48a8fdd6e43902fb47428285e2287",
        "_kg_hide-input": true,
        "id": "GMOvtcRssHbw"
      },
      "cell_type": "code",
      "source": [
        "# Predict on training set with model\n",
        "data_test_fcst = model.predict(df=data_test.reset_index().rename(columns={'Timestamp':'ds'}))"
      ],
      "execution_count": null,
      "outputs": []
    },
    {
      "metadata": {
        "trusted": true,
        "_uuid": "751766d2324b9ef101156c3d7992f047cffc28d4",
        "id": "8lNTnzfmsHbw"
      },
      "cell_type": "code",
      "source": [
        "# Plot the forecast\n",
        "f, ax = plt.subplots(1)\n",
        "f.set_figheight(5)\n",
        "f.set_figwidth(15)\n",
        "fig = model.plot(data_test_fcst, ax=ax)"
      ],
      "execution_count": null,
      "outputs": []
    },
    {
      "metadata": {
        "trusted": true,
        "_uuid": "fc36c3b63c93fee3b499d31287bd499e3347cbe8",
        "id": "pEajqT2zsHbw"
      },
      "cell_type": "code",
      "source": [
        "# Plot the components\n",
        "fig = model.plot_components(data_test_fcst)"
      ],
      "execution_count": null,
      "outputs": []
    },
    {
      "metadata": {
        "trusted": true,
        "_uuid": "3bd8d3c471ad62e79ade782cef3e15e14aea1dfc",
        "_kg_hide-input": true,
        "id": "iFquRgjtsHbw"
      },
      "cell_type": "code",
      "source": [
        "# Plot the forecast with the actuals\n",
        "f, ax = plt.subplots(1)\n",
        "f.set_figheight(5)\n",
        "f.set_figwidth(15)\n",
        "ax.scatter(data_test.index, data_test['Weighted_Price'], color='r')\n",
        "fig = model.plot(data_test_fcst, ax=ax)"
      ],
      "execution_count": null,
      "outputs": []
    },
    {
      "metadata": {
        "trusted": true,
        "_uuid": "a6eeef79f1474d54576134b583602596ee382cf5",
        "_kg_hide-input": true,
        "id": "5TnNXoptsHbw"
      },
      "cell_type": "code",
      "source": [
        "#for comparision of predictions\n",
        "data_fcst = data_test_fcst\n",
        "data_fcst = data_fcst.rename(columns={'ds': 'Timestamp'})\n",
        "data_all = pd.concat([data_fcst, data_train], sort=False)\n",
        "final_data = pd.merge(final_data, data_all, sort=False)\n",
        "final_data = final_data.rename(columns={'yhat': 'prophet'})\n",
        "final_data = final_data[['Timestamp','Weighted_Price','lstm','xgboost','prophet']]"
      ],
      "execution_count": null,
      "outputs": []
    },
    {
      "metadata": {
        "trusted": true,
        "_uuid": "59ddc8d4bea71c02376957d50c0072f4adeb2b3c",
        "_kg_hide-input": true,
        "id": "8PfFRPOYsHbx"
      },
      "cell_type": "code",
      "source": [
        "# Plot the forecast with the actuals\n",
        "f, ax = plt.subplots(1)\n",
        "f.set_figheight(5)\n",
        "f.set_figwidth(15)\n",
        "ax.scatter(data_test.index, data_test['Weighted_Price'], color='r')\n",
        "fig = model.plot(data_test_fcst, ax=ax)\n",
        "ax.set_xbound(lower='08-01-2018', upper='09-01-2018')\n",
        "ax.set_ylim(0, 10000)\n",
        "plot = plt.suptitle('August 2018 Forecast vs Actuals')"
      ],
      "execution_count": null,
      "outputs": []
    },
    {
      "metadata": {
        "trusted": true,
        "_uuid": "085353e26ab6b70569c37807daa37e92bf3140c2",
        "id": "bV-R9UjFsHbx"
      },
      "cell_type": "code",
      "source": [
        "# Plot the forecast with the actuals\n",
        "f, ax = plt.subplots(1)\n",
        "f.set_figheight(5)\n",
        "f.set_figwidth(15)\n",
        "ax.scatter(data_test.index, data_test['Weighted_Price'], color='r')\n",
        "fig = model.plot(data_test_fcst, ax=ax)\n",
        "ax.set_xbound(lower='08-01-2018', upper='08-08-2018')\n",
        "ax.set_ylim(0, 10000)\n",
        "plot = plt.suptitle('First Week of August 2018 Forecast vs Actuals')"
      ],
      "execution_count": null,
      "outputs": []
    },
    {
      "metadata": {
        "_uuid": "6afc7c9907c46e87079c3e81894d648453ff1a4a",
        "id": "VS1dna3fsHbx"
      },
      "cell_type": "markdown",
      "source": [
        "The MSE is 3654149.48 and MAE is 1678.49"
      ]
    },
    {
      "metadata": {
        "trusted": true,
        "_uuid": "349e882cbf5e18f581e1e2e89efad1f91f262173",
        "id": "Qad1AlqFsHbx"
      },
      "cell_type": "code",
      "source": [
        "mean_squared_error(y_true=data_test['Weighted_Price'],\n",
        "                   y_pred=data_test_fcst['yhat'])"
      ],
      "execution_count": null,
      "outputs": []
    },
    {
      "metadata": {
        "trusted": true,
        "_uuid": "e6c5b9f20fb3c7e50af651311e8d8b8bb3324d5b",
        "id": "xOwR-56tsHbx"
      },
      "cell_type": "code",
      "source": [
        "mean_absolute_error(y_true=data_test['Weighted_Price'],\n",
        "                   y_pred=data_test_fcst['yhat'])"
      ],
      "execution_count": null,
      "outputs": []
    },
    {
      "metadata": {
        "_uuid": "5de5fe8cc170c15fc7c1a8839d6c2ae8128890a4",
        "id": "HXmnvYe9sHbx"
      },
      "cell_type": "markdown",
      "source": [
        "**LSTM , XGBoost and Prophet - How good are they ?**\n",
        "\n",
        "Here lets visualize and compare the predictive results of LSTM, XGBoost and Prophet in a single plot,"
      ]
    },
    {
      "metadata": {
        "trusted": true,
        "_uuid": "791f7710f286fd454c90e933fd58d16b2919d5ea",
        "_kg_hide-input": true,
        "id": "pnoL-Hz9sHby"
      },
      "cell_type": "code",
      "source": [
        "# Create traces\n",
        "trace0 = go.Scatter(\n",
        "    x = final_data['Timestamp'],\n",
        "    y = final_data['Weighted_Price'],\n",
        "    mode = 'lines+markers',\n",
        "    name = 'Real Price'\n",
        ")\n",
        "trace1 = go.Scatter(\n",
        "    x = final_data['Timestamp'],\n",
        "    y = final_data['lstm'],\n",
        "    mode = 'lines+markers',\n",
        "    name = 'LSTM Prediction'\n",
        ")\n",
        "trace2 = go.Scatter(\n",
        "    x = final_data['Timestamp'],\n",
        "    y = final_data['xgboost'],\n",
        "    mode = 'lines+markers',\n",
        "    name = 'XGBoost Prediction'\n",
        ")\n",
        "trace3 = go.Scatter(\n",
        "    x = final_data['Timestamp'],\n",
        "    y = final_data['prophet'],\n",
        "    mode = 'lines+markers',\n",
        "    name = 'Prophet Prediction'\n",
        ")\n",
        "\n",
        "# Edit the layout\n",
        "layout = dict(title = 'Comparision of LSTM,XGBoost and Prophet',\n",
        "              xaxis = dict(title = 'Month'),\n",
        "              yaxis = dict(title = 'Prices (USD)'),\n",
        "              )\n",
        "\n",
        "data = [trace0, trace1, trace2, trace3]\n",
        "fig = dict(data=data, layout=layout)\n",
        "iplot(fig, filename='styled-line')"
      ],
      "execution_count": null,
      "outputs": []
    },
    {
      "metadata": {
        "_uuid": "e19460054d76175caba182cf858b2e85f4fb1575",
        "id": "dbprKIa6sHby"
      },
      "cell_type": "markdown",
      "source": [
        "**Time Series forecasting using ARIMA**\n",
        "\n",
        "ARIMA is an acronym that stands for AutoRegressive Integrated Moving Average. It is a class of model that captures a suite of different standard temporal structures in time series data.\n",
        "This acronym is descriptive, capturing the key aspects of the model itself. Briefly, they are:\n",
        "* AR: Autoregression. A model that uses the dependent relationship between an observation and some number of lagged observations.\n",
        "* I: Integrated. The use of differencing of raw observations (e.g. subtracting an observation from an observation at the previous time step) in order to make the time series stationary.\n",
        "* MA: Moving Average. A model that uses the dependency between an observation and a residual error from a moving average model applied to lagged observations.\n",
        "\n",
        "ARIMA is one of the mostly used techniques for Time Series analysis. In Python,  ARIMA based forecasting models can be created either using AutoARIMA[(Pyramid ARIMA)](https://pypi.org/project/pyramid-arima/) or [StatsModel ](https://www.statsmodels.org/dev/generated/statsmodels.tsa.arima_model.ARIMA.html). Here we will be using StatsModel as Kaggle do not support Pyramid ARIMA till now."
      ]
    },
    {
      "metadata": {
        "trusted": true,
        "_uuid": "ebd1047cfde2a8b5c7e1b0672b9d8ad90a0453be",
        "id": "kKaLRu-OsHby"
      },
      "cell_type": "code",
      "source": [
        "from scipy import stats\n",
        "import statsmodels.api as sm\n",
        "import warnings\n",
        "from itertools import product"
      ],
      "execution_count": null,
      "outputs": []
    },
    {
      "metadata": {
        "trusted": true,
        "_uuid": "e017e0b96e7516af782321f9880b313686a73804",
        "id": "ayq0RuSusHby"
      },
      "cell_type": "code",
      "source": [
        "data = pd.read_csv('../input/coinbaseUSD_1-min_data_2014-12-01_to_2018-11-11.csv',parse_dates=[0], date_parser=dateparse)"
      ],
      "execution_count": null,
      "outputs": []
    },
    {
      "metadata": {
        "trusted": true,
        "_uuid": "94abf7cc7e5c9f5bd9a6dd137a667f9886b31572",
        "_kg_hide-input": true,
        "id": "lEKagBStsHby"
      },
      "cell_type": "code",
      "source": [
        "data['Open'].fillna(method='ffill', inplace=True)\n",
        "data['High'].fillna(method='ffill', inplace=True)\n",
        "data['Low'].fillna(method='ffill', inplace=True)\n",
        "data['Close'].fillna(method='ffill', inplace=True)\n",
        "data['Weighted_Price'].fillna(method='ffill', inplace=True)\n",
        "data['Volume_(BTC)'].fillna(method='ffill', inplace=True)\n",
        "data['Volume_(Currency)'].fillna(method='ffill', inplace=True)"
      ],
      "execution_count": null,
      "outputs": []
    },
    {
      "metadata": {
        "trusted": true,
        "_uuid": "3cbde8704fc5ccbbe8a2a43efa65e4f18b1bd8a2",
        "id": "epdBhHOlsHbz"
      },
      "cell_type": "code",
      "source": [
        "plt.figure(figsize=[20,8])\n",
        "plt.title('BTC Weighted_Price Price (USD) by Hours')\n",
        "plt.plot(data.Weighted_Price, '-', label='By Hours')"
      ],
      "execution_count": null,
      "outputs": []
    },
    {
      "metadata": {
        "_uuid": "d8b41633b7d14c6eba2100430642b61e1de9ab06",
        "id": "NlIepoIVsHbz"
      },
      "cell_type": "markdown",
      "source": [
        "In previous sections of LSTM,XGBoost and Prophet, we used hourly data to train the model. But here we will use the monthly data (for Seasonality)."
      ]
    },
    {
      "metadata": {
        "trusted": true,
        "_uuid": "fed72a27bc6fb69596e3e65a28eaca3101d4611b",
        "_kg_hide-input": true,
        "id": "gSqNqkJasHbz"
      },
      "cell_type": "code",
      "source": [
        "data['Timestamp'] = data['Timestamp'].dt.tz_localize(None)\n",
        "data = data.groupby([pd.Grouper(key='Timestamp', freq='M')]).first().reset_index()\n",
        "data = data.set_index('Timestamp')\n",
        "data['Weighted_Price'].fillna(method='ffill', inplace=True)"
      ],
      "execution_count": null,
      "outputs": []
    },
    {
      "metadata": {
        "trusted": true,
        "_uuid": "10c3b2bc38dc8abdcb2b7639897c7b5827dba8f2",
        "_kg_hide-input": true,
        "id": "5vGliSoAsHbz"
      },
      "cell_type": "code",
      "source": [
        "plt.figure(figsize=[20,8])\n",
        "plt.title('BTC Weighted_Price Price (USD) by Months')\n",
        "plt.plot(data.Weighted_Price, '-', label='By Months')"
      ],
      "execution_count": null,
      "outputs": []
    },
    {
      "metadata": {
        "_uuid": "8edf250d1b018ba4248866bebdc8a3802db54d50",
        "id": "RmhMHfHTsHbz"
      },
      "cell_type": "markdown",
      "source": [
        "Decomposition"
      ]
    },
    {
      "metadata": {
        "trusted": true,
        "_uuid": "fddea8cdb1cba357d432a905fd9d0d6117292f9d",
        "id": "y-AZ5k7XsHbz"
      },
      "cell_type": "code",
      "source": [
        "decomposition = sm.tsa.seasonal_decompose(data.Weighted_Price)\n",
        "\n",
        "trend = decomposition.trend\n",
        "seasonal = decomposition.seasonal\n",
        "residual = decomposition.resid\n",
        "\n",
        "fig = plt.figure(figsize=(20,8))\n",
        "\n",
        "plt.subplot(411)\n",
        "plt.plot(data.Weighted_Price, label='Original')\n",
        "plt.legend(loc='best')\n",
        "plt.subplot(412)\n",
        "plt.plot(trend, label='Trend')\n",
        "plt.legend(loc='best')\n",
        "plt.subplot(413)\n",
        "plt.plot(seasonal,label='Seasonality')\n",
        "plt.legend(loc='best')\n",
        "plt.subplot(414)\n",
        "plt.plot(residual, label='Residuals')\n",
        "plt.legend(loc='best')\n",
        "\n",
        "fig.suptitle('Decomposition of Prices Data')\n",
        "plt.show()"
      ],
      "execution_count": null,
      "outputs": []
    },
    {
      "metadata": {
        "trusted": true,
        "_uuid": "595ea382b9ad739adccb9c133da16f8bac520522",
        "id": "d3TROKvqsHb0"
      },
      "cell_type": "code",
      "source": [
        "print(\"Dickey–Fuller test: p=%f\" % sm.tsa.stattools.adfuller(data.Weighted_Price)[1])"
      ],
      "execution_count": null,
      "outputs": []
    },
    {
      "metadata": {
        "trusted": true,
        "_uuid": "362f9251d62f5696a1a768c07663b360f38e1854",
        "id": "1W_LyTWUsHb0"
      },
      "cell_type": "code",
      "source": [
        "from statsmodels.graphics.tsaplots import plot_acf\n",
        "from statsmodels.graphics.tsaplots import plot_pacf\n",
        "from matplotlib import pyplot\n",
        "pyplot.figure(figsize=(20,8))\n",
        "pyplot.subplot(211)\n",
        "plot_acf(data.Weighted_Price, ax=pyplot.gca(),lags=40)\n",
        "pyplot.subplot(212)\n",
        "plot_pacf(data.Weighted_Price, ax=pyplot.gca(), lags=50)\n",
        "pyplot.show()"
      ],
      "execution_count": null,
      "outputs": []
    },
    {
      "metadata": {
        "_uuid": "4558087e2805d6bfe0f6afa43f231415b334e150",
        "id": "sFh6wFD5sHb0"
      },
      "cell_type": "markdown",
      "source": [
        "Here's the Statespace ARIMA Model, the best model is selected using different parameters."
      ]
    },
    {
      "metadata": {
        "trusted": true,
        "_uuid": "f9fc7bfd604b3f290353a883cd7b98e5863d7766",
        "id": "hOtZJyEJsHb0"
      },
      "cell_type": "code",
      "source": [
        "# Initial approximation of parameters\n",
        "Qs = range(0, 2)\n",
        "qs = range(0, 3)\n",
        "Ps = range(0, 3)\n",
        "ps = range(0, 3)\n",
        "D=1\n",
        "d=1\n",
        "parameters = product(ps, qs, Ps, Qs)\n",
        "parameters_list = list(parameters)\n",
        "len(parameters_list)\n",
        "\n",
        "# Model Selection\n",
        "results = []\n",
        "best_aic = float(\"inf\")\n",
        "warnings.filterwarnings('ignore')\n",
        "for param in parameters_list:\n",
        "    try:\n",
        "        model=sm.tsa.statespace.SARIMAX(data.Weighted_Price, order=(param[0], d, param[1]),\n",
        "                                        seasonal_order=(param[2], D, param[3], 12),enforce_stationarity=False,\n",
        "                                            enforce_invertibility=False).fit(disp=-1)\n",
        "    except ValueError:\n",
        "        #print('wrong parameters:', param)\n",
        "        continue\n",
        "    aic = model.aic\n",
        "    if aic < best_aic:\n",
        "        best_model = model\n",
        "        best_aic = aic\n",
        "        best_param = param\n",
        "    results.append([param, model.aic])"
      ],
      "execution_count": null,
      "outputs": []
    },
    {
      "metadata": {
        "trusted": true,
        "_uuid": "6a9207379fba415afc4f91e9b034a548a1be3583",
        "_kg_hide-input": true,
        "id": "hb0_6lynsHb0"
      },
      "cell_type": "code",
      "source": [
        "# Best Models\n",
        "result_table = pd.DataFrame(results)\n",
        "result_table.columns = ['parameters', 'aic']\n",
        "print(result_table.sort_values(by = 'aic', ascending=True).head())\n",
        "print(best_model.summary())"
      ],
      "execution_count": null,
      "outputs": []
    },
    {
      "metadata": {
        "trusted": true,
        "_uuid": "b21b0110f732132440a87d62143f8de8753b4d73",
        "id": "a4YEvMu4sHb0"
      },
      "cell_type": "code",
      "source": [
        "fig = plt.figure(figsize=(20,8))\n",
        "best_model.resid.plot()\n",
        "fig.suptitle('Residual Plot of the Best Model')\n",
        "print(\"Dickey–Fuller test:: p=%f\" % sm.tsa.stattools.adfuller(best_model.resid)[1])"
      ],
      "execution_count": null,
      "outputs": []
    },
    {
      "metadata": {
        "trusted": true,
        "_uuid": "3d6e6e75da4e04c73c076561f616fdc4cbabcc1f",
        "id": "qBaJ73VxsHb0"
      },
      "cell_type": "code",
      "source": [
        "df_month2 = data[['Weighted_Price']]\n",
        "future = pd.DataFrame()\n",
        "df_month2 = pd.concat([df_month2, future])\n",
        "df_month2['forecast'] = best_model.predict(start=0, end=200)\n",
        "plt.figure(figsize=(15,7))\n",
        "df_month2.Weighted_Price.plot()\n",
        "df_month2.forecast.plot(color='r', ls='--', label='Predicted Weighted_Price')\n",
        "plt.legend()\n",
        "plt.title('Bitcoin Prices (USD) Predicted vs Actuals, by months')\n",
        "plt.ylabel('mean USD')\n",
        "plt.show()"
      ],
      "execution_count": null,
      "outputs": []
    },
    {
      "metadata": {
        "trusted": true,
        "_uuid": "22c147ad840a8a7a13ec17f7fbb935979e8e7216",
        "_kg_hide-input": true,
        "id": "rKTJA0LJsHb1"
      },
      "cell_type": "code",
      "source": [
        "# from scipy import stats\n",
        "# import statsmodels.api as sm\n",
        "# import warnings\n",
        "# from itertools import product"
      ],
      "execution_count": null,
      "outputs": []
    },
    {
      "metadata": {
        "trusted": true,
        "_uuid": "d601479dd54a72572a32de42284741b9499819cf",
        "_kg_hide-input": true,
        "id": "LdXLJoKRsHb1"
      },
      "cell_type": "code",
      "source": [
        "# data = pd.read_csv('../input/coinbaseUSD_1-min_data_2014-12-01_to_2018-11-11.csv',parse_dates=[0], date_parser=dateparse)\n",
        "# data.head()"
      ],
      "execution_count": null,
      "outputs": []
    },
    {
      "metadata": {
        "trusted": true,
        "_uuid": "c8a67e2b9fcd595a913016a30ff8feb1a857d763",
        "_kg_hide-input": true,
        "id": "mfL-tI9qsHb1"
      },
      "cell_type": "code",
      "source": [
        "# data['Timestamp'] = data['Timestamp'].dt.tz_localize(None)\n",
        "# data = data.groupby([pd.Grouper(key='Timestamp', freq='M')]).first().reset_index()\n",
        "# data = data.set_index('Timestamp')\n",
        "# data['Weighted_Price'].fillna(method='ffill', inplace=True)"
      ],
      "execution_count": null,
      "outputs": []
    },
    {
      "metadata": {
        "trusted": true,
        "_uuid": "3b4ac367b57ce60cb896d9efcc613404e6961664",
        "_kg_hide-input": true,
        "id": "P_t431iIsHb1"
      },
      "cell_type": "code",
      "source": [
        "# plt.figure(figsize=[20,8])\n",
        "# plt.title('BTC Weighted_Price Price (USD) by Months')\n",
        "# plt.plot(data.Weighted_Price, '-', label='By Months')"
      ],
      "execution_count": null,
      "outputs": []
    }
  ],
  "metadata": {
    "kernelspec": {
      "display_name": "Python 3",
      "language": "python",
      "name": "python3"
    },
    "language_info": {
      "name": "python",
      "version": "3.6.6",
      "mimetype": "text/x-python",
      "codemirror_mode": {
        "name": "ipython",
        "version": 3
      },
      "pygments_lexer": "ipython3",
      "nbconvert_exporter": "python",
      "file_extension": ".py"
    },
    "colab": {
      "provenance": []
    }
  },
  "nbformat": 4,
  "nbformat_minor": 0
}